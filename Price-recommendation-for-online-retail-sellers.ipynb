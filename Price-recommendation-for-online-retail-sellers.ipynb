{
 "cells": [
  {
   "cell_type": "code",
   "execution_count": 1,
   "metadata": {
    "ExecuteTime": {
     "end_time": "2021-05-08T13:16:19.773680Z",
     "start_time": "2021-05-08T13:16:11.468080Z"
    }
   },
   "outputs": [],
   "source": [
    "import math\n",
    "import re\n",
    "\n",
    "import pandas as pd\n",
    "import numpy as np\n",
    "import seaborn as sns\n",
    "import matplotlib.pyplot as plt\n",
    "import statsmodels.api as sm\n",
    "from scipy import stats\n",
    "from scipy.special import inv_boxcox\n",
    "from wordcloud import WordCloud\n",
    "from sklearn import preprocessing\n",
    "from sklearn.model_selection import train_test_split, cross_val_score\n",
    "from sklearn.metrics import mean_squared_error, make_scorer, r2_score\n",
    "from sklearn.linear_model import LinearRegression, Lasso, Ridge"
   ]
  },
  {
   "cell_type": "code",
   "execution_count": 2,
   "metadata": {},
   "outputs": [],
   "source": [
    "def load_dataset():\n",
    "    return pd.read_csv('data/data.csv')"
   ]
  },
  {
   "cell_type": "code",
   "execution_count": 3,
   "metadata": {},
   "outputs": [],
   "source": [
    "df = load_dataset()"
   ]
  },
  {
   "cell_type": "code",
   "execution_count": 17,
   "metadata": {},
   "outputs": [],
   "source": [
    "df.groupby(['brand_title', 'brand_type']).size().reset_index()[['brand_title', 'brand_type']].to_csv('data/brands.csv', index=False)"
   ]
  },
  {
   "cell_type": "code",
   "execution_count": 47,
   "metadata": {},
   "outputs": [
    {
     "data": {
      "image/png": "[encoded data removed]",
      "text/plain": [
       "<Figure size 720x216 with 1 Axes>"
      ]
     },
     "metadata": {
      "needs_background": "light"
     },
     "output_type": "display_data"
    }
   ],
   "source": [
    "plt.figure(figsize=(10, 3))\n",
    "sns.histplot(data=df[df['sold_price'] < 2000], x='sold_price', bins=100)\n",
    "plt.show()"
   ]
  },
  {
   "cell_type": "code",
   "execution_count": 50,
   "metadata": {},
   "outputs": [
    {
     "data": {
      "image/png": "[encoded data removed]",
      "text/plain": [
       "<Figure size 720x216 with 1 Axes>"
      ]
     },
     "metadata": {
      "needs_background": "light"
     },
     "output_type": "display_data"
    }
   ],
   "source": [
    "df['sold_price_log'] = df['sold_price'].apply(np.log1p)\n",
    "\n",
    "plt.figure(figsize=(10, 3))\n",
    "sns.histplot(data=df, x='sold_price_log', bins=100)\n",
    "plt.show()"
   ]
  },
  {
   "cell_type": "markdown",
   "metadata": {},
   "source": [
    "## Data Exploration"
   ]
  },
  {
   "cell_type": "markdown",
   "metadata": {},
   "source": [
    "### Data Shape and 5 example rows"
   ]
  },
  {
   "cell_type": "code",
   "execution_count": 39,
   "metadata": {},
   "outputs": [
    {
     "data": {
      "text/plain": [
       "(1144486, 18)"
      ]
     },
     "execution_count": 39,
     "metadata": {},
     "output_type": "execute_result"
    }
   ],
   "source": [
    "df.shape"
   ]
  },
  {
   "cell_type": "code",
   "execution_count": null,
   "metadata": {},
   "outputs": [],
   "source": [
    "df.head()"
   ]
  },
  {
   "cell_type": "markdown",
   "metadata": {},
   "source": [
    "### Data Types"
   ]
  },
  {
   "cell_type": "code",
   "execution_count": null,
   "metadata": {
    "ExecuteTime": {
     "end_time": "2021-05-08T13:16:28.013450Z",
     "start_time": "2021-05-08T13:16:27.994216Z"
    }
   },
   "outputs": [],
   "source": [
    "df.dtypes"
   ]
  },
  {
   "cell_type": "markdown",
   "metadata": {},
   "source": [
    "### Missing Values"
   ]
  },
  {
   "cell_type": "code",
   "execution_count": null,
   "metadata": {
    "ExecuteTime": {
     "end_time": "2021-05-08T13:16:47.379817Z",
     "start_time": "2021-05-08T13:16:46.498826Z"
    }
   },
   "outputs": [],
   "source": [
    "df.isnull().sum()"
   ]
  },
  {
   "cell_type": "markdown",
   "metadata": {},
   "source": [
    "### Duplicate rows"
   ]
  },
  {
   "cell_type": "code",
   "execution_count": 4,
   "metadata": {},
   "outputs": [],
   "source": [
    "def remove_duplicates(df):\n",
    "    return df.copy().drop_duplicates('product_id')"
   ]
  },
  {
   "cell_type": "code",
   "execution_count": 5,
   "metadata": {},
   "outputs": [],
   "source": [
    "df = remove_duplicates(df)"
   ]
  },
  {
   "cell_type": "markdown",
   "metadata": {},
   "source": [
    "### Remove null"
   ]
  },
  {
   "cell_type": "code",
   "execution_count": 6,
   "metadata": {},
   "outputs": [],
   "source": [
    "def remove_nulls(df):\n",
    "    return df.copy().dropna(axis=0, subset=['thirdlevel_title_']).dropna(axis=0, subset=['original_price'])"
   ]
  },
  {
   "cell_type": "code",
   "execution_count": 7,
   "metadata": {},
   "outputs": [],
   "source": [
    "df = remove_nulls(df)"
   ]
  },
  {
   "cell_type": "markdown",
   "metadata": {},
   "source": [
    "### Price variable statistics"
   ]
  },
  {
   "cell_type": "code",
   "execution_count": null,
   "metadata": {},
   "outputs": [],
   "source": [
    "df.sold_price.describe().apply(lambda x: format(x, 'f'))"
   ]
  },
  {
   "cell_type": "markdown",
   "metadata": {},
   "source": [
    "### Brands"
   ]
  },
  {
   "cell_type": "markdown",
   "metadata": {},
   "source": [
    "Best seller brands"
   ]
  },
  {
   "cell_type": "code",
   "execution_count": 57,
   "metadata": {},
   "outputs": [
    {
     "data": {
      "text/plain": [
       "25000.0"
      ]
     },
     "execution_count": 57,
     "metadata": {},
     "output_type": "execute_result"
    }
   ],
   "source": [
    "df['sold_price'].max()"
   ]
  },
  {
   "cell_type": "code",
   "execution_count": 58,
   "metadata": {},
   "outputs": [
    {
     "data": {
      "text/plain": [
       "10.0"
      ]
     },
     "execution_count": 58,
     "metadata": {},
     "output_type": "execute_result"
    }
   ],
   "source": [
    "df['sold_price'].min()"
   ]
  },
  {
   "cell_type": "code",
   "execution_count": 59,
   "metadata": {},
   "outputs": [
    {
     "data": {
      "text/plain": [
       "82.41971702075736"
      ]
     },
     "execution_count": 59,
     "metadata": {},
     "output_type": "execute_result"
    }
   ],
   "source": [
    "df['sold_price'].mean()"
   ]
  },
  {
   "cell_type": "code",
   "execution_count": 60,
   "metadata": {},
   "outputs": [
    {
     "data": {
      "text/plain": [
       "165.04702078670744"
      ]
     },
     "execution_count": 60,
     "metadata": {},
     "output_type": "execute_result"
    }
   ],
   "source": [
    "df['sold_price'].std()"
   ]
  },
  {
   "cell_type": "code",
   "execution_count": null,
   "metadata": {},
   "outputs": [],
   "source": [
    "df['sold_price'].std()"
   ]
  },
  {
   "cell_type": "code",
   "execution_count": 56,
   "metadata": {},
   "outputs": [
    {
     "data": {
      "image/png": "[encoded data removed]",
      "text/plain": [
       "<Figure size 720x216 with 1 Axes>"
      ]
     },
     "metadata": {
      "needs_background": "light"
     },
     "output_type": "display_data"
    }
   ],
   "source": [
    "top_10_brands = df.groupby(['brand_title'])['brand_title'].count().sort_values(ascending=False)[:10]\n",
    "\n",
    "plt.figure(figsize=(10, 3))\n",
    "sns.barplot(x=top_10_brands.index, y=top_10_brands.values, palette='pastel')\n",
    "plt.title('Top seller brands')\n",
    "plt.show()"
   ]
  },
  {
   "cell_type": "markdown",
   "metadata": {},
   "source": [
    "Most expensive brands"
   ]
  },
  {
   "cell_type": "code",
   "execution_count": 55,
   "metadata": {},
   "outputs": [
    {
     "data": {
      "image/png": "[encoded data removed]",
      "text/plain": [
       "<Figure size 1440x216 with 1 Axes>"
      ]
     },
     "metadata": {
      "needs_background": "light"
     },
     "output_type": "display_data"
    }
   ],
   "source": [
    "filtered_df = df.groupby(['brand_title']).filter(lambda brand: len(brand) > 10)\n",
    "\n",
    "most_expensive_brands = filtered_df.groupby(['brand_title'])['sold_price'].mean().sort_values(ascending=False)[:10]\n",
    "\n",
    "plt.figure(figsize=(20, 3))\n",
    "sns.barplot(x=most_expensive_brands.index, y=most_expensive_brands.values, palette='pastel')\n",
    "plt.title('Most expensive brands')\n",
    "plt.show()"
   ]
  },
  {
   "cell_type": "markdown",
   "metadata": {},
   "source": [
    "Shipping vs Price"
   ]
  },
  {
   "cell_type": "code",
   "execution_count": 10,
   "metadata": {
    "ExecuteTime": {
     "end_time": "2021-05-05T19:50:49.183939Z",
     "start_time": "2021-05-05T19:50:46.697280Z"
    }
   },
   "outputs": [
    {
     "data": {
      "image/png": "[encoded data removed]",
      "text/plain": [
       "<Figure size 432x288 with 1 Axes>"
      ]
     },
     "metadata": {
      "needs_background": "light"
     },
     "output_type": "display_data"
    }
   ],
   "source": [
    "ax = sns.boxplot(x=df['shipment_term'],y=df['sold_price'],palette=\"Set3\",hue=df['shipment_term'])\n",
    "handles, _ = ax.get_legend_handles_labels()\n",
    "ax.legend(handles, [\"Seller pays\", \"Buyer pays\"])\n",
    "plt.title('Price distribution', fontsize=15)\n",
    "plt.show()"
   ]
  },
  {
   "cell_type": "markdown",
   "metadata": {},
   "source": [
    "### Wordclouds"
   ]
  },
  {
   "cell_type": "code",
   "execution_count": 267,
   "metadata": {
    "ExecuteTime": {
     "end_time": "2021-05-08T14:01:29.432017Z",
     "start_time": "2021-05-08T13:58:12.993476Z"
    }
   },
   "outputs": [],
   "source": [
    "def text_preprocess(value, stopwords):\n",
    "    value = value.replace('\\\\r', ' ')\n",
    "    value = value.replace('\\\\\"', ' ')\n",
    "    value = value.replace('\\\\n', ' ')\n",
    "    value = ' '.join(e for e in value.split() if e not in stopwords)\n",
    "    return value.lower().strip()\n",
    "\n",
    "\n",
    "def generate_word_cloud(series):\n",
    "    df['description'] = df['description'].astype(str)\n",
    "    with open('stopwords.txt', 'r') as f:\n",
    "        stopwords = [word.strip() for word in f.readlines()]\n",
    "    \n",
    "    wordcloud = WordCloud(collocations=False).generate(' '.join(text_preprocess(value, stopwords) for value in series))\n",
    "    plt.figure(figsize = (12,6))\n",
    "    plt.imshow(wordcloud, interpolation='bilinear')\n",
    "    plt.axis(\"off\")\n",
    "    plt.title(f'WordCloud for {series.name}')\n",
    "    plt.show()"
   ]
  },
  {
   "cell_type": "code",
   "execution_count": 268,
   "metadata": {},
   "outputs": [
    {
     "data": {
      "image/png": "[encoded data removed]",
      "text/plain": [
       "<Figure size 864x432 with 1 Axes>"
      ]
     },
     "metadata": {
      "needs_background": "light"
     },
     "output_type": "display_data"
    }
   ],
   "source": [
    "generate_word_cloud(df['description'])"
   ]
  },
  {
   "cell_type": "markdown",
   "metadata": {},
   "source": [
    "## Outliers"
   ]
  },
  {
   "cell_type": "code",
   "execution_count": 5,
   "metadata": {},
   "outputs": [],
   "source": [
    "def show_outliers(series):\n",
    "    sns.set(rc={'figure.figsize':(9,6)})\n",
    "    sns.boxplot(series)\n",
    "    plt.title('Outliers')\n",
    "    plt.show()"
   ]
  },
  {
   "cell_type": "code",
   "execution_count": 10,
   "metadata": {},
   "outputs": [],
   "source": [
    "def is_outlier(s):\n",
    "    quartile_1 = np.round(s.quantile(0.25), 2)\n",
    "    quartile_3 = np.round(s.quantile(0.75), 2)\n",
    "    iqr = np.round(quartile_3 - quartile_1, 2)\n",
    "    lower_th = quartile_1 - (iqr * 1.5)\n",
    "    higher_th = quartile_3 + (iqr * 1.5)\n",
    "    \n",
    "    return ~s.between(lower_th, higher_th)"
   ]
  },
  {
   "cell_type": "code",
   "execution_count": 11,
   "metadata": {},
   "outputs": [],
   "source": [
    "def remove_outliers(df, by = 'sold_price', filtered_column = 'thirdlevel_title_'):\n",
    "    \n",
    "    copy_df = df.copy()\n",
    "    \n",
    "    return copy_df[~copy_df.groupby(filtered_column)[by].apply(is_outlier)]"
   ]
  },
  {
   "cell_type": "code",
   "execution_count": 14,
   "metadata": {},
   "outputs": [],
   "source": [
    "df = remove_outliers(df)"
   ]
  },
  {
   "cell_type": "code",
   "execution_count": 15,
   "metadata": {},
   "outputs": [
    {
     "data": {
      "text/plain": [
       "(2232468, 18)"
      ]
     },
     "execution_count": 15,
     "metadata": {},
     "output_type": "execute_result"
    }
   ],
   "source": [
    "df.shape"
   ]
  },
  {
   "cell_type": "markdown",
   "metadata": {},
   "source": [
    "### Boxcox transformation"
   ]
  },
  {
   "cell_type": "code",
   "execution_count": 16,
   "metadata": {},
   "outputs": [],
   "source": [
    "boxcox_lambda = None\n",
    "\n",
    "def boxcox_transform(series):\n",
    "    fitted_data, lmd = stats.boxcox(series)\n",
    "    \n",
    "    boxcox_lambda = lmd\n",
    "    return fitted_data"
   ]
  },
  {
   "cell_type": "code",
   "execution_count": 17,
   "metadata": {},
   "outputs": [],
   "source": [
    "def price_boxcox_transform(df, price_column='sold_price', c_name='sold_price_boxcox', plot=False):\n",
    "    normalized_price = boxcox_transform(df[price_column])\n",
    "    \n",
    "    df[c_name] = normalized_price\n",
    "    \n",
    "    if plot:\n",
    "        fig, ax = plt.subplots(1, 2)\n",
    "\n",
    "        sns.kdeplot(df[price_column], label = \"Non-Normal\", color =\"red\", shade = True, ax = ax[0])\n",
    "        sns.kdeplot(normalized_price, label = \"Normal\", color =\"green\", shade = True, ax = ax[1])\n",
    "\n",
    "        fig.set_figheight(5)\n",
    "        fig.set_figwidth(10)\n",
    "        \n",
    "        ax[0].legend(loc = 'upper right')\n",
    "        ax[1].legend(loc = 'upper right')\n",
    "        plt.show()\n",
    "    \n",
    "    return df"
   ]
  },
  {
   "cell_type": "code",
   "execution_count": 18,
   "metadata": {},
   "outputs": [],
   "source": [
    "def normalize_continous_vars(df, columns = None, plot = False):\n",
    "    columns = columns or ['sold_price_mean', 'original_price', 'original_price_mean', 'discount_rate']\n",
    "    \n",
    "    for col in columns:\n",
    "        df = price_boxcox_transform(df, price_column = col, c_name = col + '_boxcox', plot=plot)\n",
    "        \n",
    "    return df"
   ]
  },
  {
   "cell_type": "code",
   "execution_count": 25,
   "metadata": {},
   "outputs": [],
   "source": [
    "df = normalize_continous_vars(df)"
   ]
  },
  {
   "cell_type": "code",
   "execution_count": 26,
   "metadata": {},
   "outputs": [
    {
     "data": {
      "text/html": [
       "<div>\n",
       "<style scoped>\n",
       "    .dataframe tbody tr th:only-of-type {\n",
       "        vertical-align: middle;\n",
       "    }\n",
       "\n",
       "    .dataframe tbody tr th {\n",
       "        vertical-align: top;\n",
       "    }\n",
       "\n",
       "    .dataframe thead th {\n",
       "        text-align: right;\n",
       "    }\n",
       "</style>\n",
       "<table border=\"1\" class=\"dataframe\">\n",
       "  <thead>\n",
       "    <tr style=\"text-align: right;\">\n",
       "      <th></th>\n",
       "      <th>product_id</th>\n",
       "      <th>seller_id</th>\n",
       "      <th>brand_id</th>\n",
       "      <th>brand_title</th>\n",
       "      <th>brand_type</th>\n",
       "      <th>category_id</th>\n",
       "      <th>condition</th>\n",
       "      <th>shipment_term</th>\n",
       "      <th>product_status</th>\n",
       "      <th>star</th>\n",
       "      <th>...</th>\n",
       "      <th>original_price</th>\n",
       "      <th>price</th>\n",
       "      <th>sold_price</th>\n",
       "      <th>original_price_mean</th>\n",
       "      <th>sold_price_mean</th>\n",
       "      <th>discount_rate</th>\n",
       "      <th>sold_price_mean_boxcox</th>\n",
       "      <th>original_price_boxcox</th>\n",
       "      <th>original_price_mean_boxcox</th>\n",
       "      <th>discount_rate_boxcox</th>\n",
       "    </tr>\n",
       "  </thead>\n",
       "  <tbody>\n",
       "    <tr>\n",
       "      <th>0</th>\n",
       "      <td>10026506</td>\n",
       "      <td>1545373</td>\n",
       "      <td>171</td>\n",
       "      <td>İpekyol</td>\n",
       "      <td>POPULAR</td>\n",
       "      <td>112</td>\n",
       "      <td>GENTLY_WORN</td>\n",
       "      <td>BUYER_PAYS</td>\n",
       "      <td>SOLD</td>\n",
       "      <td>5.0</td>\n",
       "      <td>...</td>\n",
       "      <td>150.0</td>\n",
       "      <td>30</td>\n",
       "      <td>24.0</td>\n",
       "      <td>144.651757</td>\n",
       "      <td>35.287040</td>\n",
       "      <td>0.756055</td>\n",
       "      <td>1.169112</td>\n",
       "      <td>3.459397</td>\n",
       "      <td>1.691024</td>\n",
       "      <td>-0.142945</td>\n",
       "    </tr>\n",
       "    <tr>\n",
       "      <th>1</th>\n",
       "      <td>11979929</td>\n",
       "      <td>102583</td>\n",
       "      <td>32</td>\n",
       "      <td>Atmosphere</td>\n",
       "      <td>ECONOMICAL</td>\n",
       "      <td>78</td>\n",
       "      <td>GENTLY_WORN</td>\n",
       "      <td>SELLER_PAYS</td>\n",
       "      <td>SOLD</td>\n",
       "      <td>5.0</td>\n",
       "      <td>...</td>\n",
       "      <td>80.0</td>\n",
       "      <td>33</td>\n",
       "      <td>24.0</td>\n",
       "      <td>318.956388</td>\n",
       "      <td>65.262558</td>\n",
       "      <td>0.795387</td>\n",
       "      <td>1.196422</td>\n",
       "      <td>3.160353</td>\n",
       "      <td>1.731781</td>\n",
       "      <td>-0.130342</td>\n",
       "    </tr>\n",
       "    <tr>\n",
       "      <th>2</th>\n",
       "      <td>28019784</td>\n",
       "      <td>1091450</td>\n",
       "      <td>195</td>\n",
       "      <td>LC Waikiki</td>\n",
       "      <td>ECONOMICAL</td>\n",
       "      <td>215</td>\n",
       "      <td>LIKE_NEW</td>\n",
       "      <td>BUYER_PAYS</td>\n",
       "      <td>SOLD</td>\n",
       "      <td>5.0</td>\n",
       "      <td>...</td>\n",
       "      <td>50.0</td>\n",
       "      <td>20</td>\n",
       "      <td>16.0</td>\n",
       "      <td>96.922717</td>\n",
       "      <td>21.703372</td>\n",
       "      <td>0.776075</td>\n",
       "      <td>1.135579</td>\n",
       "      <td>2.916496</td>\n",
       "      <td>1.662492</td>\n",
       "      <td>-0.136888</td>\n",
       "    </tr>\n",
       "    <tr>\n",
       "      <th>3</th>\n",
       "      <td>31926856</td>\n",
       "      <td>4037916</td>\n",
       "      <td>99</td>\n",
       "      <td>Deriden</td>\n",
       "      <td>POPULAR</td>\n",
       "      <td>132</td>\n",
       "      <td>LIKE_NEW</td>\n",
       "      <td>BUYER_PAYS</td>\n",
       "      <td>SOLD</td>\n",
       "      <td>5.0</td>\n",
       "      <td>...</td>\n",
       "      <td>250.0</td>\n",
       "      <td>90</td>\n",
       "      <td>65.0</td>\n",
       "      <td>257.478243</td>\n",
       "      <td>68.622115</td>\n",
       "      <td>0.733484</td>\n",
       "      <td>1.198109</td>\n",
       "      <td>3.681423</td>\n",
       "      <td>1.722442</td>\n",
       "      <td>-0.148963</td>\n",
       "    </tr>\n",
       "    <tr>\n",
       "      <th>4</th>\n",
       "      <td>40659058</td>\n",
       "      <td>5600654</td>\n",
       "      <td>192</td>\n",
       "      <td>Lacoste</td>\n",
       "      <td>POPULAR</td>\n",
       "      <td>112</td>\n",
       "      <td>GENTLY_WORN</td>\n",
       "      <td>BUYER_PAYS</td>\n",
       "      <td>SOLD</td>\n",
       "      <td>5.0</td>\n",
       "      <td>...</td>\n",
       "      <td>575.0</td>\n",
       "      <td>65</td>\n",
       "      <td>52.0</td>\n",
       "      <td>144.651757</td>\n",
       "      <td>35.287040</td>\n",
       "      <td>0.756055</td>\n",
       "      <td>1.169112</td>\n",
       "      <td>4.007066</td>\n",
       "      <td>1.691024</td>\n",
       "      <td>-0.142945</td>\n",
       "    </tr>\n",
       "    <tr>\n",
       "      <th>...</th>\n",
       "      <td>...</td>\n",
       "      <td>...</td>\n",
       "      <td>...</td>\n",
       "      <td>...</td>\n",
       "      <td>...</td>\n",
       "      <td>...</td>\n",
       "      <td>...</td>\n",
       "      <td>...</td>\n",
       "      <td>...</td>\n",
       "      <td>...</td>\n",
       "      <td>...</td>\n",
       "      <td>...</td>\n",
       "      <td>...</td>\n",
       "      <td>...</td>\n",
       "      <td>...</td>\n",
       "      <td>...</td>\n",
       "      <td>...</td>\n",
       "      <td>...</td>\n",
       "      <td>...</td>\n",
       "      <td>...</td>\n",
       "      <td>...</td>\n",
       "    </tr>\n",
       "    <tr>\n",
       "      <th>2556967</th>\n",
       "      <td>123014253</td>\n",
       "      <td>1732333</td>\n",
       "      <td>318</td>\n",
       "      <td>Swatch</td>\n",
       "      <td>POPULAR</td>\n",
       "      <td>85</td>\n",
       "      <td>LIKE_NEW</td>\n",
       "      <td>BUYER_PAYS</td>\n",
       "      <td>SOLD</td>\n",
       "      <td>5.0</td>\n",
       "      <td>...</td>\n",
       "      <td>500.0</td>\n",
       "      <td>300</td>\n",
       "      <td>180.0</td>\n",
       "      <td>759.128967</td>\n",
       "      <td>130.425226</td>\n",
       "      <td>0.828191</td>\n",
       "      <td>1.214615</td>\n",
       "      <td>3.955376</td>\n",
       "      <td>1.760070</td>\n",
       "      <td>-0.117460</td>\n",
       "    </tr>\n",
       "    <tr>\n",
       "      <th>2556968</th>\n",
       "      <td>123122819</td>\n",
       "      <td>26657542</td>\n",
       "      <td>3586</td>\n",
       "      <td>Remington</td>\n",
       "      <td>POPULAR</td>\n",
       "      <td>486</td>\n",
       "      <td>LIKE_NEW</td>\n",
       "      <td>SELLER_PAYS</td>\n",
       "      <td>SOLD</td>\n",
       "      <td>5.0</td>\n",
       "      <td>...</td>\n",
       "      <td>230.0</td>\n",
       "      <td>110</td>\n",
       "      <td>100.0</td>\n",
       "      <td>276.249644</td>\n",
       "      <td>84.190055</td>\n",
       "      <td>0.695239</td>\n",
       "      <td>1.204317</td>\n",
       "      <td>3.646397</td>\n",
       "      <td>1.725634</td>\n",
       "      <td>-0.157431</td>\n",
       "    </tr>\n",
       "    <tr>\n",
       "      <th>2556969</th>\n",
       "      <td>130244686</td>\n",
       "      <td>19381013</td>\n",
       "      <td>3832</td>\n",
       "      <td>Neutrogena</td>\n",
       "      <td>POPULAR</td>\n",
       "      <td>429</td>\n",
       "      <td>NEW_WITH_TAGS</td>\n",
       "      <td>BUYER_PAYS</td>\n",
       "      <td>SOLD</td>\n",
       "      <td>5.0</td>\n",
       "      <td>...</td>\n",
       "      <td>65.0</td>\n",
       "      <td>40</td>\n",
       "      <td>28.0</td>\n",
       "      <td>96.201845</td>\n",
       "      <td>35.707266</td>\n",
       "      <td>0.628830</td>\n",
       "      <td>1.169776</td>\n",
       "      <td>3.054855</td>\n",
       "      <td>1.661897</td>\n",
       "      <td>-0.167931</td>\n",
       "    </tr>\n",
       "    <tr>\n",
       "      <th>2556970</th>\n",
       "      <td>132510780</td>\n",
       "      <td>10785227</td>\n",
       "      <td>360</td>\n",
       "      <td>Zara</td>\n",
       "      <td>POPULAR</td>\n",
       "      <td>214</td>\n",
       "      <td>LIKE_NEW</td>\n",
       "      <td>BUYER_PAYS</td>\n",
       "      <td>SOLD</td>\n",
       "      <td>5.0</td>\n",
       "      <td>...</td>\n",
       "      <td>80.0</td>\n",
       "      <td>35</td>\n",
       "      <td>35.0</td>\n",
       "      <td>107.521306</td>\n",
       "      <td>27.605159</td>\n",
       "      <td>0.743259</td>\n",
       "      <td>1.153814</td>\n",
       "      <td>3.160353</td>\n",
       "      <td>1.670504</td>\n",
       "      <td>-0.146457</td>\n",
       "    </tr>\n",
       "    <tr>\n",
       "      <th>2556971</th>\n",
       "      <td>135546961</td>\n",
       "      <td>2014895</td>\n",
       "      <td>195</td>\n",
       "      <td>LC Waikiki</td>\n",
       "      <td>ECONOMICAL</td>\n",
       "      <td>107</td>\n",
       "      <td>NEW_WITH_TAGS</td>\n",
       "      <td>BUYER_PAYS</td>\n",
       "      <td>SOLD</td>\n",
       "      <td>5.0</td>\n",
       "      <td>...</td>\n",
       "      <td>50.0</td>\n",
       "      <td>40</td>\n",
       "      <td>35.0</td>\n",
       "      <td>177.198995</td>\n",
       "      <td>37.291441</td>\n",
       "      <td>0.789550</td>\n",
       "      <td>1.172157</td>\n",
       "      <td>2.916496</td>\n",
       "      <td>1.703242</td>\n",
       "      <td>-0.132397</td>\n",
       "    </tr>\n",
       "  </tbody>\n",
       "</table>\n",
       "<p>2232468 rows × 25 columns</p>\n",
       "</div>"
      ],
      "text/plain": [
       "         product_id  seller_id  brand_id brand_title  brand_type  category_id  \\\n",
       "0          10026506    1545373       171     İpekyol     POPULAR          112   \n",
       "1          11979929     102583        32  Atmosphere  ECONOMICAL           78   \n",
       "2          28019784    1091450       195  LC Waikiki  ECONOMICAL          215   \n",
       "3          31926856    4037916        99     Deriden     POPULAR          132   \n",
       "4          40659058    5600654       192     Lacoste     POPULAR          112   \n",
       "...             ...        ...       ...         ...         ...          ...   \n",
       "2556967   123014253    1732333       318      Swatch     POPULAR           85   \n",
       "2556968   123122819   26657542      3586   Remington     POPULAR          486   \n",
       "2556969   130244686   19381013      3832  Neutrogena     POPULAR          429   \n",
       "2556970   132510780   10785227       360        Zara     POPULAR          214   \n",
       "2556971   135546961    2014895       195  LC Waikiki  ECONOMICAL          107   \n",
       "\n",
       "             condition shipment_term product_status  star  ... original_price  \\\n",
       "0          GENTLY_WORN    BUYER_PAYS           SOLD   5.0  ...          150.0   \n",
       "1          GENTLY_WORN   SELLER_PAYS           SOLD   5.0  ...           80.0   \n",
       "2             LIKE_NEW    BUYER_PAYS           SOLD   5.0  ...           50.0   \n",
       "3             LIKE_NEW    BUYER_PAYS           SOLD   5.0  ...          250.0   \n",
       "4          GENTLY_WORN    BUYER_PAYS           SOLD   5.0  ...          575.0   \n",
       "...                ...           ...            ...   ...  ...            ...   \n",
       "2556967       LIKE_NEW    BUYER_PAYS           SOLD   5.0  ...          500.0   \n",
       "2556968       LIKE_NEW   SELLER_PAYS           SOLD   5.0  ...          230.0   \n",
       "2556969  NEW_WITH_TAGS    BUYER_PAYS           SOLD   5.0  ...           65.0   \n",
       "2556970       LIKE_NEW    BUYER_PAYS           SOLD   5.0  ...           80.0   \n",
       "2556971  NEW_WITH_TAGS    BUYER_PAYS           SOLD   5.0  ...           50.0   \n",
       "\n",
       "        price sold_price original_price_mean sold_price_mean  discount_rate  \\\n",
       "0          30       24.0          144.651757       35.287040       0.756055   \n",
       "1          33       24.0          318.956388       65.262558       0.795387   \n",
       "2          20       16.0           96.922717       21.703372       0.776075   \n",
       "3          90       65.0          257.478243       68.622115       0.733484   \n",
       "4          65       52.0          144.651757       35.287040       0.756055   \n",
       "...       ...        ...                 ...             ...            ...   \n",
       "2556967   300      180.0          759.128967      130.425226       0.828191   \n",
       "2556968   110      100.0          276.249644       84.190055       0.695239   \n",
       "2556969    40       28.0           96.201845       35.707266       0.628830   \n",
       "2556970    35       35.0          107.521306       27.605159       0.743259   \n",
       "2556971    40       35.0          177.198995       37.291441       0.789550   \n",
       "\n",
       "         sold_price_mean_boxcox  original_price_boxcox  \\\n",
       "0                      1.169112               3.459397   \n",
       "1                      1.196422               3.160353   \n",
       "2                      1.135579               2.916496   \n",
       "3                      1.198109               3.681423   \n",
       "4                      1.169112               4.007066   \n",
       "...                         ...                    ...   \n",
       "2556967                1.214615               3.955376   \n",
       "2556968                1.204317               3.646397   \n",
       "2556969                1.169776               3.054855   \n",
       "2556970                1.153814               3.160353   \n",
       "2556971                1.172157               2.916496   \n",
       "\n",
       "         original_price_mean_boxcox  discount_rate_boxcox  \n",
       "0                          1.691024             -0.142945  \n",
       "1                          1.731781             -0.130342  \n",
       "2                          1.662492             -0.136888  \n",
       "3                          1.722442             -0.148963  \n",
       "4                          1.691024             -0.142945  \n",
       "...                             ...                   ...  \n",
       "2556967                    1.760070             -0.117460  \n",
       "2556968                    1.725634             -0.157431  \n",
       "2556969                    1.661897             -0.167931  \n",
       "2556970                    1.670504             -0.146457  \n",
       "2556971                    1.703242             -0.132397  \n",
       "\n",
       "[2232468 rows x 25 columns]"
      ]
     },
     "execution_count": 26,
     "metadata": {},
     "output_type": "execute_result"
    }
   ],
   "source": [
    "df"
   ]
  },
  {
   "cell_type": "markdown",
   "metadata": {},
   "source": [
    "### Log Price"
   ]
  },
  {
   "cell_type": "code",
   "execution_count": null,
   "metadata": {},
   "outputs": [],
   "source": [
    "def price_log_transform(df, price_column = 'sold_price', plot = False):\n",
    "    normalized_price = df[price_column].apply(lambda price: np.log1p(price))\n",
    "    \n",
    "    df[c_name] = normalized_price\n",
    "    \n",
    "    if plot:\n",
    "        fig, ax = plt.subplots(1, 2)\n",
    "\n",
    "        sns.distplot(df[price_column], hist = False, kde = True,\n",
    "                    kde_kws = {'shade': True, 'linewidth': 2}, \n",
    "                    label = \"Non-Normal\", color =\"green\", ax = ax[0])\n",
    "\n",
    "        sns.distplot(normalized_price, hist = False, kde = True,\n",
    "                    kde_kws = {'shade': True, 'linewidth': 2}, \n",
    "                    label = \"Normal\", color =\"green\", ax = ax[1])\n",
    "\n",
    "        plt.legend(loc = \"upper right\")\n",
    "        fig.set_figheight(5)\n",
    "        fig.set_figwidth(10)\n",
    "        plt.show()\n",
    "    \n",
    "    return df"
   ]
  },
  {
   "cell_type": "markdown",
   "metadata": {},
   "source": [
    "### One Hot Encoding"
   ]
  },
  {
   "cell_type": "code",
   "execution_count": 27,
   "metadata": {},
   "outputs": [],
   "source": [
    "def encode_and_bind(df, column):\n",
    "    dummies = pd.get_dummies(df[column])\n",
    "    res = pd.concat([df, dummies], axis=1)\n",
    "    return res"
   ]
  },
  {
   "cell_type": "code",
   "execution_count": 28,
   "metadata": {},
   "outputs": [],
   "source": [
    "def encode_categorical_features(df, features = None):\n",
    "    features = features or ['thirdlevel_title_', 'brand_type', 'condition', 'shipment_term']\n",
    "    \n",
    "    for feature in features:\n",
    "        df = encode_and_bind(df, feature)\n",
    "        \n",
    "    return df"
   ]
  },
  {
   "cell_type": "code",
   "execution_count": 29,
   "metadata": {},
   "outputs": [],
   "source": [
    "df = encode_categorical_features(df)"
   ]
  },
  {
   "cell_type": "markdown",
   "metadata": {},
   "source": [
    "## Feature creation"
   ]
  },
  {
   "cell_type": "markdown",
   "metadata": {},
   "source": [
    "### Third Level Category Original Price Mean"
   ]
  },
  {
   "cell_type": "code",
   "execution_count": 20,
   "metadata": {
    "tags": []
   },
   "outputs": [],
   "source": [
    "def add_price_mean(df, price_column, by='thirdlevel_title_'):\n",
    "    col_name = price_column + '_mean'\n",
    "    \n",
    "    df[col_name] = df.groupby(by)[price_column].transform(np.mean)\n",
    "    return df"
   ]
  },
  {
   "cell_type": "code",
   "execution_count": 21,
   "metadata": {},
   "outputs": [],
   "source": [
    "df = add_price_mean(df, 'original_price')"
   ]
  },
  {
   "cell_type": "code",
   "execution_count": 22,
   "metadata": {},
   "outputs": [],
   "source": [
    "df = add_price_mean(df, 'sold_price')"
   ]
  },
  {
   "cell_type": "markdown",
   "metadata": {},
   "source": [
    "### Discount rate mean for third level title"
   ]
  },
  {
   "cell_type": "code",
   "execution_count": 23,
   "metadata": {},
   "outputs": [],
   "source": [
    "def discount_rate(df):\n",
    "    return (df['original_price_mean'] - df['sold_price_mean']) / df['original_price_mean']"
   ]
  },
  {
   "cell_type": "code",
   "execution_count": 24,
   "metadata": {},
   "outputs": [],
   "source": [
    "df['discount_rate'] = discount_rate(df)"
   ]
  },
  {
   "cell_type": "markdown",
   "metadata": {
    "tags": []
   },
   "source": [
    "### Description Word Count"
   ]
  },
  {
   "cell_type": "code",
   "execution_count": 30,
   "metadata": {
    "ExecuteTime": {
     "end_time": "2021-05-08T13:41:59.829135Z",
     "start_time": "2021-05-08T13:41:56.714492Z"
    },
    "tags": []
   },
   "outputs": [],
   "source": [
    "def add_word_count(df, column_name = 'description_wc', plot = False):\n",
    "    df['description'] = df['description'].astype(str)\n",
    "    df['description_wc'] = df['description'].apply(lambda desc: len(desc.split()))\n",
    "    \n",
    "    if plot:\n",
    "        plt.figure(figsize=(10,3))\n",
    "        sns.kdeplot(df['description_wc'])\n",
    "        plt.title('Plot of the word count for each item description')\n",
    "        plt.xlabel('Number of words in each description')\n",
    "        plt.show()\n",
    "    \n",
    "    return df"
   ]
  },
  {
   "cell_type": "code",
   "execution_count": 31,
   "metadata": {},
   "outputs": [],
   "source": [
    "df = add_word_count(df)"
   ]
  },
  {
   "cell_type": "markdown",
   "metadata": {},
   "source": [
    "## **Correlation among variables**"
   ]
  },
  {
   "cell_type": "code",
   "execution_count": 63,
   "metadata": {},
   "outputs": [],
   "source": [
    "def show_correlation_heatmap(df, columns = None):\n",
    "    columns = columns or ['star', 'original_price', 'sold_price', 'price']\n",
    "    \n",
    "    corr_matrix = df[columns].corr()\n",
    "    \n",
    "    fig, ax = plt.subplots(figsize=(18, 9))\n",
    "    ax.set_title('Correlation Matrix', fontsize = 18)\n",
    "    sns.heatmap(corr_matrix, annot=True, ax=ax)\n",
    "    plt.show()"
   ]
  },
  {
   "cell_type": "code",
   "execution_count": 64,
   "metadata": {},
   "outputs": [
    {
     "data": {
      "image/png": "[encoded data removed]",
      "text/plain": [
       "<Figure size 1296x648 with 2 Axes>"
      ]
     },
     "metadata": {
      "needs_background": "light"
     },
     "output_type": "display_data"
    }
   ],
   "source": [
    "show_correlation_heatmap(df)"
   ]
  },
  {
   "cell_type": "markdown",
   "metadata": {},
   "source": [
    "## Model Creation"
   ]
  },
  {
   "cell_type": "code",
   "execution_count": 6,
   "metadata": {},
   "outputs": [],
   "source": [
    "def prepare_dataset():\n",
    "    df = load_dataset()\n",
    "    df = remove_duplicates(df)\n",
    "    df = remove_nulls(df)\n",
    "    df = remove_outliers(df)\n",
    "    df = price_boxcox_transform(df)\n",
    "    df = encode_categorical_features(df)\n",
    "    df = add_word_count(df)\n",
    "    \n",
    "    return df"
   ]
  },
  {
   "cell_type": "code",
   "execution_count": 73,
   "metadata": {},
   "outputs": [],
   "source": [
    "df = prepare_dataset()"
   ]
  },
  {
   "cell_type": "code",
   "execution_count": 32,
   "metadata": {},
   "outputs": [],
   "source": [
    "def create_inputs(df, excluded_columns = None, dependent_column = 'sold_price', test_size = 0.20):\n",
    "    excluded_columns = excluded_columns or [\n",
    "        'product_id', 'seller_id', 'brand_id', 'brand_title', 'brand_type', 'category_id', 'condition', 'shipment_term', 'product_status', 'star',\n",
    "        'description', 'zerolevel_title', 'firstlevel_title',\n",
    "        'secondlevel_title', 'thirdlevel_title_', 'price',\n",
    "        'sold_price', 'original_price', 'original_price_mean', 'sold_price_mean', 'discount_rate'\n",
    "    ]\n",
    "    \n",
    "    df_train, df_test = train_test_split(df, test_size=test_size)\n",
    "    \n",
    "    train_categories = df_train['thirdlevel_title_'].unique()\n",
    "    df_test = df_test[df_test['thirdlevel_title_'].isin(train_categories)]\n",
    "    \n",
    "    X_train = df_train.drop(excluded_columns, axis=1)\n",
    "    X_test = df_test.drop(excluded_columns, axis=1)\n",
    "    y_train = df_train[dependent_column]\n",
    "    y_test = df_test[dependent_column]\n",
    "    \n",
    "    return X_train, y_train, X_test, y_test"
   ]
  },
  {
   "cell_type": "code",
   "execution_count": 33,
   "metadata": {},
   "outputs": [],
   "source": [
    "def create_model(df, model_factory=LinearRegression):\n",
    "    \n",
    "    X_train, y_train, X_test, y_test = create_inputs(df)\n",
    "    \n",
    "    model = model_factory()\n",
    "    model.fit(X_train, y_train)\n",
    "    \n",
    "    return model, X_train, y_train, X_test, y_test    "
   ]
  },
  {
   "cell_type": "code",
   "execution_count": 34,
   "metadata": {},
   "outputs": [],
   "source": [
    "def rmsle_score(y, y_pred):\n",
    "    assert len(y) == len(y_pred)\n",
    "    to_sum = [(math.log(y_pred[i] + 1) - math.log(y[i] + 1)) ** 2.0 for i,pred in enumerate(y_pred)]\n",
    "    return (sum(to_sum) * (1.0/len(y))) ** 0.5"
   ]
  },
  {
   "cell_type": "code",
   "execution_count": 35,
   "metadata": {},
   "outputs": [],
   "source": [
    "def rmse_score(y,y_pred):\n",
    "    return math.sqrt(mean_squared_error(y, y_pred))"
   ]
  },
  {
   "cell_type": "code",
   "execution_count": 36,
   "metadata": {},
   "outputs": [],
   "source": [
    "def calc_model_error(model, X_test, y_test, error_func = rmse_score):\n",
    "    # predictions = model.predict(X_test)\n",
    "    # denormalized_preds = inv_boxcox(predictions, boxcox_lambda)\n",
    "    # denormalized_test = inv_boxcox(y_test, boxcox_lambda)\n",
    "    \n",
    "    # return error_func(denormalized_test, denormalized_preds)\n",
    "    \n",
    "    return error_func(y_test, model.predict(X_test))"
   ]
  },
  {
   "cell_type": "code",
   "execution_count": 37,
   "metadata": {},
   "outputs": [],
   "source": [
    "def create_calc_model_error(df, **kwargs):\n",
    "    error_func = kwargs.pop('error_func', rmse_score)\n",
    "\n",
    "    model, X_train, y_train, X_test, y_test = create_model(df)\n",
    "    return calc_model_error(model, X_test, y_test, error_func)"
   ]
  },
  {
   "cell_type": "code",
   "execution_count": 58,
   "metadata": {},
   "outputs": [],
   "source": [
    "def calc_cross_val_score(df):\n",
    "    X_train, y_train, X_test, y_test = create_inputs(df)\n",
    "    \n",
    "    model = LinearRegression()\n",
    "    \n",
    "    scores = cross_val_score(model, X_train, y_train, scoring=make_scorer(mean_squared_error, greater_is_better = False))\n",
    "    return scores"
   ]
  },
  {
   "cell_type": "code",
   "execution_count": 38,
   "metadata": {},
   "outputs": [],
   "source": [
    "def r_square(y_test, predicted):\n",
    "    return r2_score(y_test, predicted)    "
   ]
  },
  {
   "cell_type": "code",
   "execution_count": 109,
   "metadata": {},
   "outputs": [
    {
     "data": {
      "text/plain": [
       "2707.1407810784635"
      ]
     },
     "execution_count": 109,
     "metadata": {},
     "output_type": "execute_result"
    }
   ],
   "source": [
    "create_calc_model_error(df, model_factory=Lasso, error_func=mean_squared_error)"
   ]
  },
  {
   "cell_type": "code",
   "execution_count": 41,
   "metadata": {},
   "outputs": [
    {
     "data": {
      "text/html": [
       "<div>\n",
       "<style scoped>\n",
       "    .dataframe tbody tr th:only-of-type {\n",
       "        vertical-align: middle;\n",
       "    }\n",
       "\n",
       "    .dataframe tbody tr th {\n",
       "        vertical-align: top;\n",
       "    }\n",
       "\n",
       "    .dataframe thead th {\n",
       "        text-align: right;\n",
       "    }\n",
       "</style>\n",
       "<table border=\"1\" class=\"dataframe\">\n",
       "  <thead>\n",
       "    <tr style=\"text-align: right;\">\n",
       "      <th></th>\n",
       "      <th>product_id</th>\n",
       "      <th>seller_id</th>\n",
       "      <th>brand_id</th>\n",
       "      <th>brand_title</th>\n",
       "      <th>brand_type</th>\n",
       "      <th>category_id</th>\n",
       "      <th>condition</th>\n",
       "      <th>shipment_term</th>\n",
       "      <th>product_status</th>\n",
       "      <th>star</th>\n",
       "      <th>...</th>\n",
       "      <th>ECONOMICAL</th>\n",
       "      <th>LUX</th>\n",
       "      <th>POPULAR</th>\n",
       "      <th>ULTRA_LUX</th>\n",
       "      <th>GENTLY_WORN</th>\n",
       "      <th>LIKE_NEW</th>\n",
       "      <th>NEW_WITH_TAGS</th>\n",
       "      <th>BUYER_PAYS</th>\n",
       "      <th>SELLER_PAYS</th>\n",
       "      <th>description_wc</th>\n",
       "    </tr>\n",
       "  </thead>\n",
       "  <tbody>\n",
       "    <tr>\n",
       "      <th>0</th>\n",
       "      <td>10026506</td>\n",
       "      <td>1545373</td>\n",
       "      <td>171</td>\n",
       "      <td>İpekyol</td>\n",
       "      <td>POPULAR</td>\n",
       "      <td>112</td>\n",
       "      <td>GENTLY_WORN</td>\n",
       "      <td>BUYER_PAYS</td>\n",
       "      <td>SOLD</td>\n",
       "      <td>5.0</td>\n",
       "      <td>...</td>\n",
       "      <td>0</td>\n",
       "      <td>0</td>\n",
       "      <td>1</td>\n",
       "      <td>0</td>\n",
       "      <td>1</td>\n",
       "      <td>0</td>\n",
       "      <td>0</td>\n",
       "      <td>1</td>\n",
       "      <td>0</td>\n",
       "      <td>3</td>\n",
       "    </tr>\n",
       "    <tr>\n",
       "      <th>1</th>\n",
       "      <td>11979929</td>\n",
       "      <td>102583</td>\n",
       "      <td>32</td>\n",
       "      <td>Atmosphere</td>\n",
       "      <td>ECONOMICAL</td>\n",
       "      <td>78</td>\n",
       "      <td>GENTLY_WORN</td>\n",
       "      <td>SELLER_PAYS</td>\n",
       "      <td>SOLD</td>\n",
       "      <td>5.0</td>\n",
       "      <td>...</td>\n",
       "      <td>1</td>\n",
       "      <td>0</td>\n",
       "      <td>0</td>\n",
       "      <td>0</td>\n",
       "      <td>1</td>\n",
       "      <td>0</td>\n",
       "      <td>0</td>\n",
       "      <td>0</td>\n",
       "      <td>1</td>\n",
       "      <td>5</td>\n",
       "    </tr>\n",
       "    <tr>\n",
       "      <th>2</th>\n",
       "      <td>28019784</td>\n",
       "      <td>1091450</td>\n",
       "      <td>195</td>\n",
       "      <td>LC Waikiki</td>\n",
       "      <td>ECONOMICAL</td>\n",
       "      <td>215</td>\n",
       "      <td>LIKE_NEW</td>\n",
       "      <td>BUYER_PAYS</td>\n",
       "      <td>SOLD</td>\n",
       "      <td>5.0</td>\n",
       "      <td>...</td>\n",
       "      <td>1</td>\n",
       "      <td>0</td>\n",
       "      <td>0</td>\n",
       "      <td>0</td>\n",
       "      <td>0</td>\n",
       "      <td>1</td>\n",
       "      <td>0</td>\n",
       "      <td>1</td>\n",
       "      <td>0</td>\n",
       "      <td>14</td>\n",
       "    </tr>\n",
       "    <tr>\n",
       "      <th>3</th>\n",
       "      <td>31926856</td>\n",
       "      <td>4037916</td>\n",
       "      <td>99</td>\n",
       "      <td>Deriden</td>\n",
       "      <td>POPULAR</td>\n",
       "      <td>132</td>\n",
       "      <td>LIKE_NEW</td>\n",
       "      <td>BUYER_PAYS</td>\n",
       "      <td>SOLD</td>\n",
       "      <td>5.0</td>\n",
       "      <td>...</td>\n",
       "      <td>0</td>\n",
       "      <td>0</td>\n",
       "      <td>1</td>\n",
       "      <td>0</td>\n",
       "      <td>0</td>\n",
       "      <td>1</td>\n",
       "      <td>0</td>\n",
       "      <td>1</td>\n",
       "      <td>0</td>\n",
       "      <td>33</td>\n",
       "    </tr>\n",
       "    <tr>\n",
       "      <th>4</th>\n",
       "      <td>40659058</td>\n",
       "      <td>5600654</td>\n",
       "      <td>192</td>\n",
       "      <td>Lacoste</td>\n",
       "      <td>POPULAR</td>\n",
       "      <td>112</td>\n",
       "      <td>GENTLY_WORN</td>\n",
       "      <td>BUYER_PAYS</td>\n",
       "      <td>SOLD</td>\n",
       "      <td>5.0</td>\n",
       "      <td>...</td>\n",
       "      <td>0</td>\n",
       "      <td>0</td>\n",
       "      <td>1</td>\n",
       "      <td>0</td>\n",
       "      <td>1</td>\n",
       "      <td>0</td>\n",
       "      <td>0</td>\n",
       "      <td>1</td>\n",
       "      <td>0</td>\n",
       "      <td>21</td>\n",
       "    </tr>\n",
       "    <tr>\n",
       "      <th>...</th>\n",
       "      <td>...</td>\n",
       "      <td>...</td>\n",
       "      <td>...</td>\n",
       "      <td>...</td>\n",
       "      <td>...</td>\n",
       "      <td>...</td>\n",
       "      <td>...</td>\n",
       "      <td>...</td>\n",
       "      <td>...</td>\n",
       "      <td>...</td>\n",
       "      <td>...</td>\n",
       "      <td>...</td>\n",
       "      <td>...</td>\n",
       "      <td>...</td>\n",
       "      <td>...</td>\n",
       "      <td>...</td>\n",
       "      <td>...</td>\n",
       "      <td>...</td>\n",
       "      <td>...</td>\n",
       "      <td>...</td>\n",
       "      <td>...</td>\n",
       "    </tr>\n",
       "    <tr>\n",
       "      <th>2556967</th>\n",
       "      <td>123014253</td>\n",
       "      <td>1732333</td>\n",
       "      <td>318</td>\n",
       "      <td>Swatch</td>\n",
       "      <td>POPULAR</td>\n",
       "      <td>85</td>\n",
       "      <td>LIKE_NEW</td>\n",
       "      <td>BUYER_PAYS</td>\n",
       "      <td>SOLD</td>\n",
       "      <td>5.0</td>\n",
       "      <td>...</td>\n",
       "      <td>0</td>\n",
       "      <td>0</td>\n",
       "      <td>1</td>\n",
       "      <td>0</td>\n",
       "      <td>0</td>\n",
       "      <td>1</td>\n",
       "      <td>0</td>\n",
       "      <td>1</td>\n",
       "      <td>0</td>\n",
       "      <td>11</td>\n",
       "    </tr>\n",
       "    <tr>\n",
       "      <th>2556968</th>\n",
       "      <td>123122819</td>\n",
       "      <td>26657542</td>\n",
       "      <td>3586</td>\n",
       "      <td>Remington</td>\n",
       "      <td>POPULAR</td>\n",
       "      <td>486</td>\n",
       "      <td>LIKE_NEW</td>\n",
       "      <td>SELLER_PAYS</td>\n",
       "      <td>SOLD</td>\n",
       "      <td>5.0</td>\n",
       "      <td>...</td>\n",
       "      <td>0</td>\n",
       "      <td>0</td>\n",
       "      <td>1</td>\n",
       "      <td>0</td>\n",
       "      <td>0</td>\n",
       "      <td>1</td>\n",
       "      <td>0</td>\n",
       "      <td>0</td>\n",
       "      <td>1</td>\n",
       "      <td>11</td>\n",
       "    </tr>\n",
       "    <tr>\n",
       "      <th>2556969</th>\n",
       "      <td>130244686</td>\n",
       "      <td>19381013</td>\n",
       "      <td>3832</td>\n",
       "      <td>Neutrogena</td>\n",
       "      <td>POPULAR</td>\n",
       "      <td>429</td>\n",
       "      <td>NEW_WITH_TAGS</td>\n",
       "      <td>BUYER_PAYS</td>\n",
       "      <td>SOLD</td>\n",
       "      <td>5.0</td>\n",
       "      <td>...</td>\n",
       "      <td>0</td>\n",
       "      <td>0</td>\n",
       "      <td>1</td>\n",
       "      <td>0</td>\n",
       "      <td>0</td>\n",
       "      <td>0</td>\n",
       "      <td>1</td>\n",
       "      <td>1</td>\n",
       "      <td>0</td>\n",
       "      <td>10</td>\n",
       "    </tr>\n",
       "    <tr>\n",
       "      <th>2556970</th>\n",
       "      <td>132510780</td>\n",
       "      <td>10785227</td>\n",
       "      <td>360</td>\n",
       "      <td>Zara</td>\n",
       "      <td>POPULAR</td>\n",
       "      <td>214</td>\n",
       "      <td>LIKE_NEW</td>\n",
       "      <td>BUYER_PAYS</td>\n",
       "      <td>SOLD</td>\n",
       "      <td>5.0</td>\n",
       "      <td>...</td>\n",
       "      <td>0</td>\n",
       "      <td>0</td>\n",
       "      <td>1</td>\n",
       "      <td>0</td>\n",
       "      <td>0</td>\n",
       "      <td>1</td>\n",
       "      <td>0</td>\n",
       "      <td>1</td>\n",
       "      <td>0</td>\n",
       "      <td>4</td>\n",
       "    </tr>\n",
       "    <tr>\n",
       "      <th>2556971</th>\n",
       "      <td>135546961</td>\n",
       "      <td>2014895</td>\n",
       "      <td>195</td>\n",
       "      <td>LC Waikiki</td>\n",
       "      <td>ECONOMICAL</td>\n",
       "      <td>107</td>\n",
       "      <td>NEW_WITH_TAGS</td>\n",
       "      <td>BUYER_PAYS</td>\n",
       "      <td>SOLD</td>\n",
       "      <td>5.0</td>\n",
       "      <td>...</td>\n",
       "      <td>1</td>\n",
       "      <td>0</td>\n",
       "      <td>0</td>\n",
       "      <td>0</td>\n",
       "      <td>0</td>\n",
       "      <td>0</td>\n",
       "      <td>1</td>\n",
       "      <td>1</td>\n",
       "      <td>0</td>\n",
       "      <td>28</td>\n",
       "    </tr>\n",
       "  </tbody>\n",
       "</table>\n",
       "<p>2232468 rows × 567 columns</p>\n",
       "</div>"
      ],
      "text/plain": [
       "         product_id  seller_id  brand_id brand_title  brand_type  category_id  \\\n",
       "0          10026506    1545373       171     İpekyol     POPULAR          112   \n",
       "1          11979929     102583        32  Atmosphere  ECONOMICAL           78   \n",
       "2          28019784    1091450       195  LC Waikiki  ECONOMICAL          215   \n",
       "3          31926856    4037916        99     Deriden     POPULAR          132   \n",
       "4          40659058    5600654       192     Lacoste     POPULAR          112   \n",
       "...             ...        ...       ...         ...         ...          ...   \n",
       "2556967   123014253    1732333       318      Swatch     POPULAR           85   \n",
       "2556968   123122819   26657542      3586   Remington     POPULAR          486   \n",
       "2556969   130244686   19381013      3832  Neutrogena     POPULAR          429   \n",
       "2556970   132510780   10785227       360        Zara     POPULAR          214   \n",
       "2556971   135546961    2014895       195  LC Waikiki  ECONOMICAL          107   \n",
       "\n",
       "             condition shipment_term product_status  star  ... ECONOMICAL LUX  \\\n",
       "0          GENTLY_WORN    BUYER_PAYS           SOLD   5.0  ...          0   0   \n",
       "1          GENTLY_WORN   SELLER_PAYS           SOLD   5.0  ...          1   0   \n",
       "2             LIKE_NEW    BUYER_PAYS           SOLD   5.0  ...          1   0   \n",
       "3             LIKE_NEW    BUYER_PAYS           SOLD   5.0  ...          0   0   \n",
       "4          GENTLY_WORN    BUYER_PAYS           SOLD   5.0  ...          0   0   \n",
       "...                ...           ...            ...   ...  ...        ...  ..   \n",
       "2556967       LIKE_NEW    BUYER_PAYS           SOLD   5.0  ...          0   0   \n",
       "2556968       LIKE_NEW   SELLER_PAYS           SOLD   5.0  ...          0   0   \n",
       "2556969  NEW_WITH_TAGS    BUYER_PAYS           SOLD   5.0  ...          0   0   \n",
       "2556970       LIKE_NEW    BUYER_PAYS           SOLD   5.0  ...          0   0   \n",
       "2556971  NEW_WITH_TAGS    BUYER_PAYS           SOLD   5.0  ...          1   0   \n",
       "\n",
       "        POPULAR ULTRA_LUX GENTLY_WORN  LIKE_NEW  NEW_WITH_TAGS  BUYER_PAYS  \\\n",
       "0             1         0           1         0              0           1   \n",
       "1             0         0           1         0              0           0   \n",
       "2             0         0           0         1              0           1   \n",
       "3             1         0           0         1              0           1   \n",
       "4             1         0           1         0              0           1   \n",
       "...         ...       ...         ...       ...            ...         ...   \n",
       "2556967       1         0           0         1              0           1   \n",
       "2556968       1         0           0         1              0           0   \n",
       "2556969       1         0           0         0              1           1   \n",
       "2556970       1         0           0         1              0           1   \n",
       "2556971       0         0           0         0              1           1   \n",
       "\n",
       "         SELLER_PAYS  description_wc  \n",
       "0                  0               3  \n",
       "1                  1               5  \n",
       "2                  0              14  \n",
       "3                  0              33  \n",
       "4                  0              21  \n",
       "...              ...             ...  \n",
       "2556967            0              11  \n",
       "2556968            1              11  \n",
       "2556969            0              10  \n",
       "2556970            0               4  \n",
       "2556971            0              28  \n",
       "\n",
       "[2232468 rows x 567 columns]"
      ]
     },
     "execution_count": 41,
     "metadata": {},
     "output_type": "execute_result"
    }
   ],
   "source": [
    "df"
   ]
  },
  {
   "cell_type": "code",
   "execution_count": 39,
   "metadata": {},
   "outputs": [],
   "source": [
    "model, X_train, y_train, X_test, y_test = create_model(df, model_factory=Ridge)"
   ]
  },
  {
   "cell_type": "code",
   "execution_count": 40,
   "metadata": {},
   "outputs": [
    {
     "data": {
      "text/plain": [
       "1718.668655719812"
      ]
     },
     "execution_count": 40,
     "metadata": {},
     "output_type": "execute_result"
    }
   ],
   "source": [
    "calc_model_error(model, X_test, y_test, mean_squared_error)"
   ]
  },
  {
   "cell_type": "code",
   "execution_count": 140,
   "metadata": {},
   "outputs": [
    {
     "data": {
      "text/plain": [
       "0.5358416484865853"
      ]
     },
     "execution_count": 140,
     "metadata": {},
     "output_type": "execute_result"
    }
   ],
   "source": [
    "r_square(y_test, model.predict(X_test))"
   ]
  },
  {
   "cell_type": "code",
   "execution_count": 123,
   "metadata": {},
   "outputs": [],
   "source": [
    "b = model.predict(X_test)"
   ]
  },
  {
   "cell_type": "code",
   "execution_count": 206,
   "metadata": {},
   "outputs": [],
   "source": [
    "b_ = inv_boxcox(b, -0.0760369)"
   ]
  },
  {
   "cell_type": "code",
   "execution_count": 207,
   "metadata": {},
   "outputs": [],
   "source": [
    "a_ = inv_boxcox(a, -0.0760369)"
   ]
  },
  {
   "cell_type": "code",
   "execution_count": 217,
   "metadata": {},
   "outputs": [],
   "source": [
    "r2 = r2_score(a_, b_)"
   ]
  },
  {
   "cell_type": "code",
   "execution_count": 99,
   "metadata": {},
   "outputs": [
    {
     "data": {
      "text/plain": [
       "0.31574233230527693"
      ]
     },
     "execution_count": 99,
     "metadata": {},
     "output_type": "execute_result"
    }
   ],
   "source": [
    "r2_score(a, b)"
   ]
  },
  {
   "cell_type": "code",
   "execution_count": 97,
   "metadata": {},
   "outputs": [
    {
     "data": {
      "text/plain": [
       "0.3137359253100003"
      ]
     },
     "execution_count": 97,
     "metadata": {},
     "output_type": "execute_result"
    }
   ],
   "source": [
    "1 - (1-r2)*(len(b)-1)/(len(b)-X_test.shape[1]-1)"
   ]
  },
  {
   "cell_type": "code",
   "execution_count": 69,
   "metadata": {},
   "outputs": [
    {
     "data": {
      "text/plain": [
       "0.24510654822731567"
      ]
     },
     "execution_count": 69,
     "metadata": {},
     "output_type": "execute_result"
    }
   ],
   "source": [
    "from sklearn.linear_model import Ridge\n",
    "\n",
    "create_calc_model_error(df, model_factory=Ridge, error_func=mean_squared_error)"
   ]
  },
  {
   "cell_type": "code",
   "execution_count": 70,
   "metadata": {},
   "outputs": [
    {
     "data": {
      "text/plain": [
       "0.24754096148559368"
      ]
     },
     "execution_count": 70,
     "metadata": {},
     "output_type": "execute_result"
    }
   ],
   "source": [
    "from sklearn.linear_model import Lasso\n",
    "\n",
    "create_calc_model_error(df, model_factory=Lasso, error_func=mean_squared_error)"
   ]
  },
  {
   "cell_type": "code",
   "execution_count": null,
   "metadata": {},
   "outputs": [],
   "source": [
    "def create_ols_model(X_train, y_train):\n",
    "    X2 = sm.add_constant(np.asarray(X_train, dtype=float))\n",
    "    est = sm.OLS(np.asarray(y_train, dtype=float), X2)\n",
    "    est2 = est.fit()\n",
    "    return est2"
   ]
  },
  {
   "cell_type": "code",
   "execution_count": null,
   "metadata": {},
   "outputs": [],
   "source": [
    "X_train, y_train, X_test, y_test = create_inputs(df)\n",
    "\n",
    "model = create_ols_model(X_train, y_train)\n",
    "\n",
    "print(model.summary())\n",
    "\n",
    "calc_model_error(model, X_test, y_test)"
   ]
  },
  {
   "cell_type": "code",
   "execution_count": null,
   "metadata": {},
   "outputs": [],
   "source": [
    "def backwards_elimination(df):\n",
    "    X_train, y_train, X_test, y_test = create_inputs(df)\n",
    "    cols = list(X_train.columns)\n",
    "    \n",
    "    print(len(X_train.columns))\n",
    "    \n",
    "    pmax = 1\n",
    "    while (len(cols)>0):\n",
    "        X_1 = X_train[cols]\n",
    "        X_1 = sm.add_constant(X_1)\n",
    "        model = sm.OLS(y_train, X_1).fit()\n",
    "        print(model.summary())\n",
    "        p = pd.Series(model.pvalues.values, index = cols)      \n",
    "        pmax = max(p)\n",
    "        feature_with_p_max = p.idxmax()\n",
    "        if(pmax>0.05):\n",
    "            print('Removed feature: ', feature_with_p_max)\n",
    "            print('Remaining feature count', len(cols))\n",
    "            cols.remove(feature_with_p_max)\n",
    "        else:\n",
    "            break\n",
    "            \n",
    "    return cols"
   ]
  },
  {
   "cell_type": "code",
   "execution_count": null,
   "metadata": {},
   "outputs": [],
   "source": [
    "backwards_elimination(df)"
   ]
  },
  {
   "cell_type": "code",
   "execution_count": null,
   "metadata": {},
   "outputs": [],
   "source": [
    "from sklearn.linear_model import LinearRegression\n",
    "\n",
    "model = LinearRegression()\n",
    "model.fit(X_train, y_train)\n",
    "\n",
    "print('Intercept: \\n', model.intercept_)\n",
    "print('Coefficients: \\n', model.coef_)"
   ]
  },
  {
   "cell_type": "code",
   "execution_count": null,
   "metadata": {},
   "outputs": [],
   "source": [
    "from sklearn.linear_model import Lasso\n",
    "\n",
    "model = Lasso(alpha=0.5)\n",
    "model.fit(X_train, y_train)\n",
    "\n",
    "print('Intercept: \\n', model.intercept_)\n",
    "print('Coefficients: \\n', model.coef_)"
   ]
  },
  {
   "cell_type": "code",
   "execution_count": null,
   "metadata": {},
   "outputs": [],
   "source": [
    "format(rmse_score(y_test, model.predict(X_test)), 'f')"
   ]
  },
  {
   "cell_type": "code",
   "execution_count": null,
   "metadata": {},
   "outputs": [],
   "source": [
    "X2 = sm.add_constant(np.asarray(X_train, dtype=float))\n",
    "est = sm.OLS(np.asarray(y_train, dtype=float), X2)\n",
    "est2 = est.fit()\n",
    "print(est2.summary())"
   ]
  },
  {
   "cell_type": "code",
   "execution_count": null,
   "metadata": {},
   "outputs": [],
   "source": [
    "df['sold_price'].min()"
   ]
  }
 ],
 "metadata": {
  "kernelspec": {
   "display_name": "Python 3",
   "language": "python",
   "name": "python3"
  },
  "language_info": {
   "codemirror_mode": {
    "name": "ipython",
    "version": 3
   },
   "file_extension": ".py",
   "mimetype": "text/x-python",
   "name": "python",
   "nbconvert_exporter": "python",
   "pygments_lexer": "ipython3",
   "version": "3.8.8"
  },
  "varInspector": {
   "cols": {
    "lenName": 16,
    "lenType": 16,
    "lenVar": 40
   },
   "kernels_config": {
    "python": {
     "delete_cmd_postfix": "",
     "delete_cmd_prefix": "del ",
     "library": "var_list.py",
     "varRefreshCmd": "print(var_dic_list())"
    },
    "r": {
     "delete_cmd_postfix": ") ",
     "delete_cmd_prefix": "rm(",
     "library": "var_list.r",
     "varRefreshCmd": "cat(var_dic_list()) "
    }
   },
   "types_to_exclude": [
    "module",
    "function",
    "builtin_function_or_method",
    "instance",
    "_Feature"
   ],
   "window_display": false
  }
 },
 "nbformat": 4,
 "nbformat_minor": 4
}
